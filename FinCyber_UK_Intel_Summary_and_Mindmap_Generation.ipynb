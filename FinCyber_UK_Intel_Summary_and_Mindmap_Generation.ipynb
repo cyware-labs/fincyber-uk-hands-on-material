{
  "cells": [
    {
      "cell_type": "markdown",
      "id": "abf8416a-acb3-4540-8287-e6b75c0ada6e",
      "metadata": {
        "id": "abf8416a-acb3-4540-8287-e6b75c0ada6e"
      },
      "source": [
        "# Threat Report Summarizing"
      ]
    },
    {
      "cell_type": "markdown",
      "id": "2ffccad2-5d7f-443e-8892-6d3b24fb3d95",
      "metadata": {
        "id": "2ffccad2-5d7f-443e-8892-6d3b24fb3d95"
      },
      "source": [
        "This notebook is used to experiment with the few-shot learning technique to automatically summarize threat reports and generate a mind map of the key findings."
      ]
    },
    {
      "cell_type": "markdown",
      "id": "75dcc7d1-8b83-4c18-96d2-26464dbdfdca",
      "metadata": {
        "id": "75dcc7d1-8b83-4c18-96d2-26464dbdfdca"
      },
      "source": [
        "## What is few-shot learning?"
      ]
    },
    {
      "cell_type": "markdown",
      "id": "64949181-9219-4374-8f42-53af68d3bca3",
      "metadata": {
        "id": "64949181-9219-4374-8f42-53af68d3bca3"
      },
      "source": [
        "Few-shot learning in prompt engineering refers to the approach where a model, with minimal examples or 'shots', is trained to understand and perform a specific task. Instead of requiring vast amounts of data, this method leverages prior knowledge and limited new data to quickly adapt to new tasks or prompts.\n",
        "\n",
        "The motivation behind this is to \"teach\" a model with specific information to minimize mistakes or errors. In this experiment, I apply this concept to threat report summarization, but it can be applied to any type of data."
      ]
    },
    {
      "cell_type": "markdown",
      "id": "b6ffaa01-6a7e-4b7a-97a6-efd9fb1f6bf3",
      "metadata": {
        "id": "b6ffaa01-6a7e-4b7a-97a6-efd9fb1f6bf3"
      },
      "source": [
        "## Prerequisites"
      ]
    },
    {
      "cell_type": "markdown",
      "id": "e591939f-1c2f-4ad5-906a-64e736b1f851",
      "metadata": {
        "id": "e591939f-1c2f-4ad5-906a-64e736b1f851"
      },
      "source": [
        "You will need an OpenAI API key, but any model can be used.\n",
        "\n",
        "Packages to Install:\n",
        "* openai\n",
        "* requests\n",
        "* BeautifulSoup"
      ]
    },
    {
      "cell_type": "markdown",
      "id": "7587f6af-3e88-475b-a33e-60ea2505d480",
      "metadata": {
        "id": "7587f6af-3e88-475b-a33e-60ea2505d480"
      },
      "source": [
        "## Limitations\n",
        "\n",
        "In some instances, the mindmap generation might not be flawless and can encounter issues, especially with nested parentheses or brackets. These can be easily rectified either by rerunning the model or by manually modifying the mindmap code. Also keep in mind that this is a proof of concept that needs to be adjusted for your need. :)"
      ]
    },
    {
      "cell_type": "markdown",
      "id": "cf273123-f44f-4a70-9d19-d52291007dd5",
      "metadata": {
        "id": "cf273123-f44f-4a70-9d19-d52291007dd5"
      },
      "source": [
        "## Code"
      ]
    },
    {
      "metadata": {
        "ExecuteTime": {
          "end_time": "2024-08-28T06:02:03.287606Z",
          "start_time": "2024-08-28T06:01:57.940154Z"
        },
        "colab": {
          "base_uri": "https://localhost:8080/"
        },
        "id": "d839ff08ea6192d1",
        "outputId": "ff96c38d-7fbd-4777-a901-702f7b65093d"
      },
      "cell_type": "code",
      "source": [
        "!pip3 install openai\n",
        "!pip3 install beautifulsoup4"
      ],
      "id": "d839ff08ea6192d1",
      "outputs": [
        {
          "output_type": "stream",
          "name": "stdout",
          "text": [
            "Collecting openai\n",
            "  Downloading openai-1.47.0-py3-none-any.whl.metadata (24 kB)\n",
            "Requirement already satisfied: anyio<5,>=3.5.0 in /usr/local/lib/python3.10/dist-packages (from openai) (3.7.1)\n",
            "Requirement already satisfied: distro<2,>=1.7.0 in /usr/lib/python3/dist-packages (from openai) (1.7.0)\n",
            "Collecting httpx<1,>=0.23.0 (from openai)\n",
            "  Downloading httpx-0.27.2-py3-none-any.whl.metadata (7.1 kB)\n",
            "Collecting jiter<1,>=0.4.0 (from openai)\n",
            "  Downloading jiter-0.5.0-cp310-cp310-manylinux_2_17_x86_64.manylinux2014_x86_64.whl.metadata (3.6 kB)\n",
            "Requirement already satisfied: pydantic<3,>=1.9.0 in /usr/local/lib/python3.10/dist-packages (from openai) (2.9.2)\n",
            "Requirement already satisfied: sniffio in /usr/local/lib/python3.10/dist-packages (from openai) (1.3.1)\n",
            "Requirement already satisfied: tqdm>4 in /usr/local/lib/python3.10/dist-packages (from openai) (4.66.5)\n",
            "Requirement already satisfied: typing-extensions<5,>=4.11 in /usr/local/lib/python3.10/dist-packages (from openai) (4.12.2)\n",
            "Requirement already satisfied: idna>=2.8 in /usr/local/lib/python3.10/dist-packages (from anyio<5,>=3.5.0->openai) (3.10)\n",
            "Requirement already satisfied: exceptiongroup in /usr/local/lib/python3.10/dist-packages (from anyio<5,>=3.5.0->openai) (1.2.2)\n",
            "Requirement already satisfied: certifi in /usr/local/lib/python3.10/dist-packages (from httpx<1,>=0.23.0->openai) (2024.8.30)\n",
            "Collecting httpcore==1.* (from httpx<1,>=0.23.0->openai)\n",
            "  Downloading httpcore-1.0.5-py3-none-any.whl.metadata (20 kB)\n",
            "Collecting h11<0.15,>=0.13 (from httpcore==1.*->httpx<1,>=0.23.0->openai)\n",
            "  Downloading h11-0.14.0-py3-none-any.whl.metadata (8.2 kB)\n",
            "Requirement already satisfied: annotated-types>=0.6.0 in /usr/local/lib/python3.10/dist-packages (from pydantic<3,>=1.9.0->openai) (0.7.0)\n",
            "Requirement already satisfied: pydantic-core==2.23.4 in /usr/local/lib/python3.10/dist-packages (from pydantic<3,>=1.9.0->openai) (2.23.4)\n",
            "Downloading openai-1.47.0-py3-none-any.whl (375 kB)\n",
            "\u001b[2K   \u001b[90m━━━━━━━━━━━━━━━━━━━━━━━━━━━━━━━━━━━━━━━━\u001b[0m \u001b[32m375.6/375.6 kB\u001b[0m \u001b[31m10.6 MB/s\u001b[0m eta \u001b[36m0:00:00\u001b[0m\n",
            "\u001b[?25hDownloading httpx-0.27.2-py3-none-any.whl (76 kB)\n",
            "\u001b[2K   \u001b[90m━━━━━━━━━━━━━━━━━━━━━━━━━━━━━━━━━━━━━━━━\u001b[0m \u001b[32m76.4/76.4 kB\u001b[0m \u001b[31m1.9 MB/s\u001b[0m eta \u001b[36m0:00:00\u001b[0m\n",
            "\u001b[?25hDownloading httpcore-1.0.5-py3-none-any.whl (77 kB)\n",
            "\u001b[2K   \u001b[90m━━━━━━━━━━━━━━━━━━━━━━━━━━━━━━━━━━━━━━━━\u001b[0m \u001b[32m77.9/77.9 kB\u001b[0m \u001b[31m4.6 MB/s\u001b[0m eta \u001b[36m0:00:00\u001b[0m\n",
            "\u001b[?25hDownloading jiter-0.5.0-cp310-cp310-manylinux_2_17_x86_64.manylinux2014_x86_64.whl (318 kB)\n",
            "\u001b[2K   \u001b[90m━━━━━━━━━━━━━━━━━━━━━━━━━━━━━━━━━━━━━━━━\u001b[0m \u001b[32m318.9/318.9 kB\u001b[0m \u001b[31m6.4 MB/s\u001b[0m eta \u001b[36m0:00:00\u001b[0m\n",
            "\u001b[?25hDownloading h11-0.14.0-py3-none-any.whl (58 kB)\n",
            "\u001b[2K   \u001b[90m━━━━━━━━━━━━━━━━━━━━━━━━━━━━━━━━━━━━━━━━\u001b[0m \u001b[32m58.3/58.3 kB\u001b[0m \u001b[31m3.3 MB/s\u001b[0m eta \u001b[36m0:00:00\u001b[0m\n",
            "\u001b[?25hInstalling collected packages: jiter, h11, httpcore, httpx, openai\n",
            "Successfully installed h11-0.14.0 httpcore-1.0.5 httpx-0.27.2 jiter-0.5.0 openai-1.47.0\n",
            "Requirement already satisfied: beautifulsoup4 in /usr/local/lib/python3.10/dist-packages (4.12.3)\n",
            "Requirement already satisfied: soupsieve>1.2 in /usr/local/lib/python3.10/dist-packages (from beautifulsoup4) (2.6)\n"
          ]
        }
      ],
      "execution_count": null
    },
    {
      "cell_type": "code",
      "id": "b2048451-47f5-4b84-84a2-fff9740378a2",
      "metadata": {
        "ExecuteTime": {
          "end_time": "2024-08-28T06:13:33.905993Z",
          "start_time": "2024-08-28T06:13:25.412588Z"
        },
        "id": "b2048451-47f5-4b84-84a2-fff9740378a2",
        "colab": {
          "base_uri": "https://localhost:8080/",
          "height": 365
        },
        "outputId": "528d21da-b830-497e-df46-e4987ea31c22"
      },
      "source": [
        "import requests\n",
        "from bs4 import BeautifulSoup\n",
        "from ipywidgets import widgets\n",
        "from IPython.display import display\n",
        "import openai\n",
        "import os\n",
        "import time\n",
        "import re\n",
        "from ipywidgets import Output\n",
        "\n",
        "output = Output()\n",
        "\n",
        "# You need to configure you environement variable or to add your key here\n",
        "# Set env variable\n",
        "os.environ[\"OPENAI_API_KEY\"] = \"<openai api key>\"\n",
        "client = openai.OpenAI()\n",
        "\n",
        "# Function to scrape text from a URL\n",
        "def scrape_text(url):\n",
        "    headers = {\n",
        "        \"User-Agent\": \"Mozilla/5.0 (Windows NT 10.0; Win64; x64) AppleWebKit/537.36 (KHTML, like Gecko) Chrome/91.0.4472.124 Safari/537.36\"\n",
        "    }\n",
        "\n",
        "    response = requests.get(url, headers=headers)\n",
        "    if response.status_code == 200:\n",
        "        page_content = response.content\n",
        "        soup = BeautifulSoup(page_content, \"html.parser\")\n",
        "        text = soup.get_text()\n",
        "        return text\n",
        "    else:\n",
        "        return \"Failed to scrape the website\"\n",
        "\n",
        "# Function to summarize the blog\n",
        "def summarise(input_text):\n",
        "    response = client.chat.completions.create(\n",
        "        model=\"gpt-4o\",\n",
        "        messages= [\n",
        "            {\n",
        "                \"role\": \"system\",\n",
        "                \"content\":\"You are responsible for summarizing a threat report for a Threat Analyst. Write a paragraph that will summarize the main topic, the key findings, and all the detailed information relevant for a threat analyst such as detection opportunity iocs and TTPs. Use the title and add an emoji. Do not generate a bullet points list but rather multiple paragraphs.\"\n",
        "            },\n",
        "\n",
        "            {\"role\": \"user\", \"content\": input_text},\n",
        "        ],\n",
        "    )\n",
        "    return response\n",
        "\n",
        "# Function to generate a mindmap (few shot technique).\n",
        "# NB: the more shot you add the better the result will be\n",
        "def run_models(input_text):\n",
        "    response = client.chat.completions.create(\n",
        "        model=\"gpt-4o\",\n",
        "        messages= [\n",
        "            {\n",
        "                \"role\": \"system\",\n",
        "                \"content\":\"You are tasked with creating an in-depth mindmap designed specifically for a threat analyst. This mindmap aims to visually organize key findings and crucial highlights from the text. Please adhere to the following guidelines: \\n1. Avoid using hyphens in the text, as they cause errors in the Mermaid.js code \\n2. Limit the number of primary nodes branching from the main node to four. These primary nodes should encapsulate the top four main themes. Add detailed sub-nodes to elaborate on these themes \\n3. Incorporate icons where suitable to enhance readability and comprehension\\n 4. Use single parentheses around each node to give them a rounded shape.\"\n",
        "            },\n",
        "            {\n",
        "                \"role\": \"user\",\n",
        "                \"content\": \"Title: \\ud83e\\udda0 Lazarus Group's Infrastructure Reuse Leads to Discovery of New Malware\\n\\nThe Lazarus Group, a North Korean state-sponsored actor famous for its relentless cyber offensive actions, continues to adjust its tactics and expand its arsenal. Recently, the revealed an exploitation of the ManageEngine ServiceDesk vulnerability (CVE-2022-47966) in another campaign. This exposure led to deploying multiple threats, with a new one identified as CollectionRAT, alongside an already used threat named QuiteRAT. \\n\\nThe advanced malware CollectionRAT has standard remote access trojan (RAT) capabilities, being able to run arbitrary commands on an infected system. Our intense analysis linked CollectionRAT to Jupiter/EarlyRAT, a malware family somewhat known to be associated with Andariel, a subgroup under the Lazarus Group umbrella. Interestingly, the group is gradually increasing its reliance on open-source tools and frameworks in the initial access phase of its attacks, as shown by Lazarus' use of the DeimosC2 framework. \\n\\nThe Lazarus Group's unchanging use of certain infrastructures, despite them being well-documented by security researchers, is another noteworthy observation. Their modus operandi, captured in the repeated use of the same tactics, techniques, and procedures (TTPs), shows audacious assurance in their operations. But this approach also offers intelligence opportunities for security analysts on tracking these reusable infrastructure components. \\n \\nDespite their blatant actions, the Lazarus Group's dynamism is evident by their increasingly heavy reliance on using dual-use utilities for activities like reverse tunneling. Some of the reused infrastructure components hosted the new CollectionRAT malware, and an altered copy of PuTTY's Plink utility was downloaded onto compromised endpoints, further demonstrating Lazarus Group's rapid evolution. \\n\\nIn conclusion, the Lazarus Group continues to reuse and recycle its well-worn tactics while pushing ahead with new threats and evolving TTPs. This information highlights why there's a need for organized cooperation among threat researchers and the critical importance of staying up-to-date with the latest threat intelligence.\",\n",
        "            },\n",
        "            {\n",
        "                \"role\": \"assistant\",\n",
        "                \"content\": \"mindmap\\nroot(Lazarus Group Threat Analysis)\\n    (Infrastructure Reuse)\\n      ::icon(fa fa-sync-alt)\\n      (Used in latest campaign)\\n      (Includes Plink, an open-source tool)\\n      (Indicates confidence in operations)\\n    (New Malware - CollectionRAT)\\n      ::icon(fa fa-bug)\\n      (Remote Access Trojan)\\n      (Allows running arbitrary commands on infected system)\\n      (Similarities to EarlyRAT malware)\\n    (Shifting Tactics)\\n      ::icon(fa fa-exchange-alt)\\n      (Increased use of open-source tools and frameworks)\\n      (Including DeimosC2 framework)\\n    (Protection Measures)\\n      ::icon(fa fa-shield-alt)\\n      (Detection and blocking with Cisco security products)\\n      (Indicators of Compromise available on GitHub)\\n    (Threat Report Significance)\\n      ::icon(fa fa-exclamation-circle)\\n      (Highlighted continued activity of Lazarus Group)\\n      (Essential for enhancing detection and response capabilities)\",\n",
        "            },\n",
        "            {\"role\": \"user\", \"content\": input_text},\n",
        "        ],\n",
        "    )\n",
        "    return response\n",
        "\n",
        "# Function to generate MermaidJS HTML\n",
        "def mermaid_chart(mindmap_code):\n",
        "    html_code = f\"\"\"\n",
        "    <html>\n",
        "     <head>\n",
        "      <link rel=\"stylesheet\" href=\"https://cdnjs.cloudflare.com/ajax/libs/font-awesome/5.15.1/css/all.min.css\">\n",
        "      <script src=\"https://cdn.jsdelivr.net/npm/mermaid@10/dist/mermaid.min.js\">\n",
        "      </script>\n",
        "      <script>\n",
        "        mermaid.initialize({{\n",
        "            startOnLoad: true,\n",
        "            flowchart: {{\n",
        "                width: 1000,  // Set as per your requirements\n",
        "                height: 800   // Set as per your requirements\n",
        "            }}\n",
        "        }});\n",
        "      </script>\n",
        "      <style>\n",
        "        body {{\n",
        "          margin: 0;\n",
        "          height: 100vh;\n",
        "          display: flex;\n",
        "          justify-content: center;\n",
        "          align-items: center;\n",
        "          background-color: transparent;\n",
        "        }}\n",
        "\n",
        "        .mermaid {{\n",
        "          background-color: transparent;\n",
        "          transform: scale(1.5);  /* Adjust the scaling factor as needed */\n",
        "          transform-origin: center;\n",
        "          width: 100%;\n",
        "          max-width: 1100px;  // Adjust as needed\n",
        "          height: auto;\n",
        "        }}\n",
        "      </style>\n",
        "     </head>\n",
        "     <body>\n",
        "      <div class=\"mermaid\">\n",
        "    {mindmap_code}\n",
        "      </div>\n",
        "     </body>\n",
        "    </html>\n",
        "    \"\"\"\n",
        "\n",
        "    with open(\"mindmap.html\", \"w\") as f:\n",
        "        f.write(html_code)\n",
        "\n",
        "# Define button click event\n",
        "def on_button_click(b):\n",
        "    with output:\n",
        "        url = url_input.value\n",
        "        print(\"[+] Blog to summarize: \" + url)\n",
        "        scraped_text = scrape_text(url)\n",
        "\n",
        "        if summarize_checkbox.value:\n",
        "            summary = summarise(scraped_text)\n",
        "            print(\"Summary:\")\n",
        "            print(summary)\n",
        "\n",
        "        if mindmap_checkbox.value:\n",
        "            #mindmap_code = run_models(scraped_text)\n",
        "            mindmap_code = run_models(summary)\n",
        "            print(\"Mindmap Code:\")\n",
        "\n",
        "            #print(\"#########\")\n",
        "            print(mindmap_code)\n",
        "            mermaid_chart(mindmap_code)\n",
        "            print(\"Mindmap has been saved to 'mindmap.html'.\")\n",
        "\n",
        "# Create widgets\n",
        "# url_input = widgets.Text(\n",
        "#     value='',\n",
        "#     placeholder='Enter URL to summarize',\n",
        "#     description='URL:',\n",
        "#     disabled=False\n",
        "# )\n",
        "#\n",
        "# summarize_checkbox = widgets.Checkbox(\n",
        "#     value=False,\n",
        "#     description='Summarize',\n",
        "#     disabled=False,\n",
        "#     indent=False\n",
        "# )\n",
        "#\n",
        "# mindmap_checkbox = widgets.Checkbox(\n",
        "#     value=False,\n",
        "#     description='Generate Mindmap',\n",
        "#     disabled=False,\n",
        "#     indent=False\n",
        "# )\n",
        "#\n",
        "# # Create a button\n",
        "# button = widgets.Button(description=\"Go\")\n",
        "# button.on_click(on_button_click)\n",
        "#\n",
        "# # Display widgets\n",
        "# display(url_input, summarize_checkbox, mindmap_checkbox, button)\n",
        "# display(output)\n",
        "\n",
        "content = \"\"\"\n",
        "Skip to main content\n",
        "U.S. flag\n",
        "An official website of the United States government\n",
        "\n",
        "Here’s how you know\n",
        "Free Cyber Services\n",
        "#protect2024\n",
        "Secure Our World\n",
        "Shields Up\n",
        "Report A Cyber Issue\n",
        "\n",
        "CISA Logo Americas Cyber Defense Agency\n",
        "Search\n",
        "\n",
        "\n",
        "Topics\n",
        "Spotlight\n",
        "Resources & Tools\n",
        "News & Events\n",
        "Careers\n",
        "About\n",
        "Breadcrumb\n",
        "Home  News & Events  Cybersecurity Advisories  Alert\n",
        "Share:\n",
        "Alert\n",
        "Versa Networks Releases Advisory for a Vulnerability in Versa Director, CVE-2024-39717\n",
        "Release DateAugust 27, 2024\n",
        "Versa Networks has released an advisory for a vulnerability (CVE-2024-39717) in Versa Director, a key component in managing SD-WAN networks, used by some Internet Service Providers (ISPs) and Managed Service Providers (MSPs). A cyber threat actor could exploit this vulnerability to take control of an affected system.\n",
        "\n",
        "CISA urges organizations to apply necessary updates, hunt for any malicious activity, report any positive findings to CISA, and review the following for more information:\n",
        "\n",
        "Versa Security Bulletin: Update on CVE-2024-39717 – Versa Director Dangerous File Type Upload Vulnerability\n",
        "Lumen: Taking the Crossroads: The Versa Director Zero-Day Exploitation\n",
        "CISA has added this vulnerability to its Known Exploited Vulnerabilities Catalog based on evidence of active exploitation.\n",
        "\n",
        "This product is provided subject to this Notification and this Privacy & Use policy.\n",
        "\n",
        "Please share your thoughts\n",
        "We recently updated our anonymous product survey; we’d welcome your feedback.\n",
        "\n",
        "Related Advisories\n",
        "Aug 27, 2024\n",
        "Alert\n",
        "CISA Adds One Known Exploited Vulnerability to Catalog\n",
        "Aug 26, 2024\n",
        "Alert\n",
        "CISA Adds One Known Exploited Vulnerability to Catalog\n",
        "Aug 23, 2024\n",
        "Alert\n",
        "CISA Adds One Known Exploited Vulnerability to Catalog for Versa Networks Director\n",
        "Aug 22, 2024\n",
        "Alert\n",
        "CISA Releases Five Industrial Control Systems Advisories\n",
        "Return to top\n",
        "Topics\n",
        "Spotlight\n",
        "Resources & Tools\n",
        "News & Events\n",
        "Careers\n",
        "About\n",
        "Cybersecurity & Infrastructure Security Agency\n",
        "Facebook\n",
        "Twitter\n",
        "LinkedIn\n",
        "YouTube\n",
        "Instagram\n",
        "RSS\n",
        "CISA Central\n",
        "1-844-Say-CISA SayCISA@cisa.gov\n",
        "DHS Seal\n",
        "CISA.gov\n",
        "An official website of the U.S. Department of Homeland Security\n",
        "About CISA\n",
        "Budget and Performance\n",
        "DHS.gov\n",
        "Equal Opportunity & Accessibility\n",
        "FOIA Requests\n",
        "No FEAR Act\n",
        "Office of Inspector General\n",
        "Privacy Policy\n",
        "Subscribe\n",
        "The White House\n",
        "USA.gov\n",
        "Website Feedback\n",
        "\"\"\"\n",
        "response = summarise(content)\n",
        "chart = run_models(content)"
      ],
      "outputs": [
        {
          "output_type": "error",
          "ename": "AuthenticationError",
          "evalue": "Error code: 401 - {'error': {'message': 'Incorrect API key provided: <openai ****key>. You can find your API key at https://platform.openai.com/account/api-keys.', 'type': 'invalid_request_error', 'param': None, 'code': 'invalid_api_key'}}",
          "traceback": [
            "\u001b[0;31m---------------------------------------------------------------------------\u001b[0m",
            "\u001b[0;31mAuthenticationError\u001b[0m                       Traceback (most recent call last)",
            "\u001b[0;32m<ipython-input-5-69ff5fecbad9>\u001b[0m in \u001b[0;36m<cell line: 257>\u001b[0;34m()\u001b[0m\n\u001b[1;32m    255\u001b[0m \u001b[0mWebsite\u001b[0m \u001b[0mFeedback\u001b[0m\u001b[0;34m\u001b[0m\u001b[0;34m\u001b[0m\u001b[0m\n\u001b[1;32m    256\u001b[0m \"\"\"\n\u001b[0;32m--> 257\u001b[0;31m \u001b[0mresponse\u001b[0m \u001b[0;34m=\u001b[0m \u001b[0msummarise\u001b[0m\u001b[0;34m(\u001b[0m\u001b[0mcontent\u001b[0m\u001b[0;34m)\u001b[0m\u001b[0;34m\u001b[0m\u001b[0;34m\u001b[0m\u001b[0m\n\u001b[0m\u001b[1;32m    258\u001b[0m \u001b[0mchart\u001b[0m \u001b[0;34m=\u001b[0m \u001b[0mrun_models\u001b[0m\u001b[0;34m(\u001b[0m\u001b[0mcontent\u001b[0m\u001b[0;34m)\u001b[0m\u001b[0;34m\u001b[0m\u001b[0;34m\u001b[0m\u001b[0m\n",
            "\u001b[0;32m<ipython-input-5-69ff5fecbad9>\u001b[0m in \u001b[0;36msummarise\u001b[0;34m(input_text)\u001b[0m\n\u001b[1;32m     33\u001b[0m \u001b[0;31m# Function to summarize the blog\u001b[0m\u001b[0;34m\u001b[0m\u001b[0;34m\u001b[0m\u001b[0m\n\u001b[1;32m     34\u001b[0m \u001b[0;32mdef\u001b[0m \u001b[0msummarise\u001b[0m\u001b[0;34m(\u001b[0m\u001b[0minput_text\u001b[0m\u001b[0;34m)\u001b[0m\u001b[0;34m:\u001b[0m\u001b[0;34m\u001b[0m\u001b[0;34m\u001b[0m\u001b[0m\n\u001b[0;32m---> 35\u001b[0;31m     response = client.chat.completions.create(\n\u001b[0m\u001b[1;32m     36\u001b[0m         \u001b[0mmodel\u001b[0m\u001b[0;34m=\u001b[0m\u001b[0;34m\"gpt-4o\"\u001b[0m\u001b[0;34m,\u001b[0m\u001b[0;34m\u001b[0m\u001b[0;34m\u001b[0m\u001b[0m\n\u001b[1;32m     37\u001b[0m         messages= [\n",
            "\u001b[0;32m/usr/local/lib/python3.10/dist-packages/openai/_utils/_utils.py\u001b[0m in \u001b[0;36mwrapper\u001b[0;34m(*args, **kwargs)\u001b[0m\n\u001b[1;32m    272\u001b[0m                         \u001b[0mmsg\u001b[0m \u001b[0;34m=\u001b[0m \u001b[0;34mf\"Missing required argument: {quote(missing[0])}\"\u001b[0m\u001b[0;34m\u001b[0m\u001b[0;34m\u001b[0m\u001b[0m\n\u001b[1;32m    273\u001b[0m                 \u001b[0;32mraise\u001b[0m \u001b[0mTypeError\u001b[0m\u001b[0;34m(\u001b[0m\u001b[0mmsg\u001b[0m\u001b[0;34m)\u001b[0m\u001b[0;34m\u001b[0m\u001b[0;34m\u001b[0m\u001b[0m\n\u001b[0;32m--> 274\u001b[0;31m             \u001b[0;32mreturn\u001b[0m \u001b[0mfunc\u001b[0m\u001b[0;34m(\u001b[0m\u001b[0;34m*\u001b[0m\u001b[0margs\u001b[0m\u001b[0;34m,\u001b[0m \u001b[0;34m**\u001b[0m\u001b[0mkwargs\u001b[0m\u001b[0;34m)\u001b[0m\u001b[0;34m\u001b[0m\u001b[0;34m\u001b[0m\u001b[0m\n\u001b[0m\u001b[1;32m    275\u001b[0m \u001b[0;34m\u001b[0m\u001b[0m\n\u001b[1;32m    276\u001b[0m         \u001b[0;32mreturn\u001b[0m \u001b[0mwrapper\u001b[0m  \u001b[0;31m# type: ignore\u001b[0m\u001b[0;34m\u001b[0m\u001b[0;34m\u001b[0m\u001b[0m\n",
            "\u001b[0;32m/usr/local/lib/python3.10/dist-packages/openai/resources/chat/completions.py\u001b[0m in \u001b[0;36mcreate\u001b[0;34m(self, messages, model, frequency_penalty, function_call, functions, logit_bias, logprobs, max_completion_tokens, max_tokens, n, parallel_tool_calls, presence_penalty, response_format, seed, service_tier, stop, stream, stream_options, temperature, tool_choice, tools, top_logprobs, top_p, user, extra_headers, extra_query, extra_body, timeout)\u001b[0m\n\u001b[1;32m    702\u001b[0m     ) -> ChatCompletion | Stream[ChatCompletionChunk]:\n\u001b[1;32m    703\u001b[0m         \u001b[0mvalidate_response_format\u001b[0m\u001b[0;34m(\u001b[0m\u001b[0mresponse_format\u001b[0m\u001b[0;34m)\u001b[0m\u001b[0;34m\u001b[0m\u001b[0;34m\u001b[0m\u001b[0m\n\u001b[0;32m--> 704\u001b[0;31m         return self._post(\n\u001b[0m\u001b[1;32m    705\u001b[0m             \u001b[0;34m\"/chat/completions\"\u001b[0m\u001b[0;34m,\u001b[0m\u001b[0;34m\u001b[0m\u001b[0;34m\u001b[0m\u001b[0m\n\u001b[1;32m    706\u001b[0m             body=maybe_transform(\n",
            "\u001b[0;32m/usr/local/lib/python3.10/dist-packages/openai/_base_client.py\u001b[0m in \u001b[0;36mpost\u001b[0;34m(self, path, cast_to, body, options, files, stream, stream_cls)\u001b[0m\n\u001b[1;32m   1266\u001b[0m             \u001b[0mmethod\u001b[0m\u001b[0;34m=\u001b[0m\u001b[0;34m\"post\"\u001b[0m\u001b[0;34m,\u001b[0m \u001b[0murl\u001b[0m\u001b[0;34m=\u001b[0m\u001b[0mpath\u001b[0m\u001b[0;34m,\u001b[0m \u001b[0mjson_data\u001b[0m\u001b[0;34m=\u001b[0m\u001b[0mbody\u001b[0m\u001b[0;34m,\u001b[0m \u001b[0mfiles\u001b[0m\u001b[0;34m=\u001b[0m\u001b[0mto_httpx_files\u001b[0m\u001b[0;34m(\u001b[0m\u001b[0mfiles\u001b[0m\u001b[0;34m)\u001b[0m\u001b[0;34m,\u001b[0m \u001b[0;34m**\u001b[0m\u001b[0moptions\u001b[0m\u001b[0;34m\u001b[0m\u001b[0;34m\u001b[0m\u001b[0m\n\u001b[1;32m   1267\u001b[0m         )\n\u001b[0;32m-> 1268\u001b[0;31m         \u001b[0;32mreturn\u001b[0m \u001b[0mcast\u001b[0m\u001b[0;34m(\u001b[0m\u001b[0mResponseT\u001b[0m\u001b[0;34m,\u001b[0m \u001b[0mself\u001b[0m\u001b[0;34m.\u001b[0m\u001b[0mrequest\u001b[0m\u001b[0;34m(\u001b[0m\u001b[0mcast_to\u001b[0m\u001b[0;34m,\u001b[0m \u001b[0mopts\u001b[0m\u001b[0;34m,\u001b[0m \u001b[0mstream\u001b[0m\u001b[0;34m=\u001b[0m\u001b[0mstream\u001b[0m\u001b[0;34m,\u001b[0m \u001b[0mstream_cls\u001b[0m\u001b[0;34m=\u001b[0m\u001b[0mstream_cls\u001b[0m\u001b[0;34m)\u001b[0m\u001b[0;34m)\u001b[0m\u001b[0;34m\u001b[0m\u001b[0;34m\u001b[0m\u001b[0m\n\u001b[0m\u001b[1;32m   1269\u001b[0m \u001b[0;34m\u001b[0m\u001b[0m\n\u001b[1;32m   1270\u001b[0m     def patch(\n",
            "\u001b[0;32m/usr/local/lib/python3.10/dist-packages/openai/_base_client.py\u001b[0m in \u001b[0;36mrequest\u001b[0;34m(self, cast_to, options, remaining_retries, stream, stream_cls)\u001b[0m\n\u001b[1;32m    943\u001b[0m             \u001b[0mretries_taken\u001b[0m \u001b[0;34m=\u001b[0m \u001b[0;36m0\u001b[0m\u001b[0;34m\u001b[0m\u001b[0;34m\u001b[0m\u001b[0m\n\u001b[1;32m    944\u001b[0m \u001b[0;34m\u001b[0m\u001b[0m\n\u001b[0;32m--> 945\u001b[0;31m         return self._request(\n\u001b[0m\u001b[1;32m    946\u001b[0m             \u001b[0mcast_to\u001b[0m\u001b[0;34m=\u001b[0m\u001b[0mcast_to\u001b[0m\u001b[0;34m,\u001b[0m\u001b[0;34m\u001b[0m\u001b[0;34m\u001b[0m\u001b[0m\n\u001b[1;32m    947\u001b[0m             \u001b[0moptions\u001b[0m\u001b[0;34m=\u001b[0m\u001b[0moptions\u001b[0m\u001b[0;34m,\u001b[0m\u001b[0;34m\u001b[0m\u001b[0;34m\u001b[0m\u001b[0m\n",
            "\u001b[0;32m/usr/local/lib/python3.10/dist-packages/openai/_base_client.py\u001b[0m in \u001b[0;36m_request\u001b[0;34m(self, cast_to, options, retries_taken, stream, stream_cls)\u001b[0m\n\u001b[1;32m   1047\u001b[0m \u001b[0;34m\u001b[0m\u001b[0m\n\u001b[1;32m   1048\u001b[0m             \u001b[0mlog\u001b[0m\u001b[0;34m.\u001b[0m\u001b[0mdebug\u001b[0m\u001b[0;34m(\u001b[0m\u001b[0;34m\"Re-raising status error\"\u001b[0m\u001b[0;34m)\u001b[0m\u001b[0;34m\u001b[0m\u001b[0;34m\u001b[0m\u001b[0m\n\u001b[0;32m-> 1049\u001b[0;31m             \u001b[0;32mraise\u001b[0m \u001b[0mself\u001b[0m\u001b[0;34m.\u001b[0m\u001b[0m_make_status_error_from_response\u001b[0m\u001b[0;34m(\u001b[0m\u001b[0merr\u001b[0m\u001b[0;34m.\u001b[0m\u001b[0mresponse\u001b[0m\u001b[0;34m)\u001b[0m \u001b[0;32mfrom\u001b[0m \u001b[0;32mNone\u001b[0m\u001b[0;34m\u001b[0m\u001b[0;34m\u001b[0m\u001b[0m\n\u001b[0m\u001b[1;32m   1050\u001b[0m \u001b[0;34m\u001b[0m\u001b[0m\n\u001b[1;32m   1051\u001b[0m         return self._process_response(\n",
            "\u001b[0;31mAuthenticationError\u001b[0m: Error code: 401 - {'error': {'message': 'Incorrect API key provided: <openai ****key>. You can find your API key at https://platform.openai.com/account/api-keys.', 'type': 'invalid_request_error', 'param': None, 'code': 'invalid_api_key'}}"
          ]
        }
      ],
      "execution_count": null
    },
    {
      "metadata": {
        "colab": {
          "base_uri": "https://localhost:8080/"
        },
        "id": "a0f4888a362c9c9d",
        "outputId": "9428e51c-4c16-4745-c47d-2a883709c8e6"
      },
      "cell_type": "code",
      "outputs": [
        {
          "output_type": "stream",
          "name": "stdout",
          "text": [
            "🔒 **Versa Networks Releases Advisory for a Vulnerability in Versa Director, CVE-2024-39717** 🔒\n",
            "\n",
            "Versa Networks has issued an advisory for a critical vulnerability identified as CVE-2024-39717 within Versa Director, a pivotal tool used for managing SD-WAN networks, commonly deployed by Internet Service Providers (ISPs) and Managed Service Providers (MSPs). This vulnerability, characterized as a dangerous file type upload flaw, can be exploited by cyber threat actors to gain control over the affected systems. The urgency of this situation has prompted the Cybersecurity and Infrastructure Security Agency (CISA) to add this vulnerability to its Known Exploited Vulnerabilities Catalog, confirming active exploitation in the wild.\n",
            "\n",
            "Organizations utilizing Versa Director are strongly advised to implement the necessary updates immediately. Detection opportunities include monitoring for signs of unauthorized file uploads and increased privileged operations on affected systems. Indicators of Compromise (IoCs) may involve anomalous traffic patterns or unexpected login attempts. Tactics, Techniques, and Procedures (TTPs) exploited in this context likely entail T1190 (Exploit Public-Facing Application) and T1078 (Valid Accounts). For further details on mitigation and detection, professionals should refer to the official Versa Security Bulletin and the advisory report from Lumen, which delves into the zero-day exploitation of this vulnerability. It is imperative to actively hunt for and report any instances of malicious activity associated with CVE-2024-39717 to CISA to facilitate collective defense and remediation efforts.\n"
          ]
        }
      ],
      "execution_count": null,
      "source": [
        "print(response.choices[0].message.content)"
      ],
      "id": "a0f4888a362c9c9d"
    },
    {
      "metadata": {
        "colab": {
          "base_uri": "https://localhost:8080/"
        },
        "id": "186945c7070db5b7",
        "outputId": "bc3a4917-22cf-422f-905f-11654611f1d9"
      },
      "cell_type": "code",
      "outputs": [
        {
          "output_type": "stream",
          "name": "stdout",
          "text": [
            "mindmap\n",
            "  root(CISA Alert: Versa Director Vulnerability)\n",
            "    (Vulnerability Details)\n",
            "      ::icon(fa fa-bug)\n",
            "      (CVE-2024-39717)\n",
            "      (Impact on SD-WAN networks)\n",
            "      (Exploitable by cyber threat actors)\n",
            "      (Active exploitation evidence)\n",
            "    (Affected Systems)\n",
            "      ::icon(fa fa-network-wired)\n",
            "      (Internet Service Providers (ISPs))\n",
            "      (Managed Service Providers (MSPs))\n",
            "    (Mitigation Steps)\n",
            "      ::icon(fa fa-tools)\n",
            "      (Apply necessary updates)\n",
            "      (Hunt for malicious activity)\n",
            "      (Report findings to CISA)\n",
            "      (Review security bulletin)\n",
            "    (Resources)\n",
            "      ::icon(fa fa-book)\n",
            "      (Versa Security Bulletin)\n",
            "      (Lumen Report: Versa Director Zero-Day)\n",
            "      (CISA Known Exploited Vulnerabilities Catalog)\n",
            "\n"
          ]
        }
      ],
      "execution_count": null,
      "source": [
        "print(chart.choices[0].message.content)"
      ],
      "id": "186945c7070db5b7"
    }
  ],
  "metadata": {
    "kernelspec": {
      "display_name": "Python 3 (ipykernel)",
      "language": "python",
      "name": "python3"
    },
    "language_info": {
      "codemirror_mode": {
        "name": "ipython",
        "version": 3
      },
      "file_extension": ".py",
      "mimetype": "text/x-python",
      "name": "python",
      "nbconvert_exporter": "python",
      "pygments_lexer": "ipython3",
      "version": "3.11.5"
    },
    "colab": {
      "provenance": []
    }
  },
  "nbformat": 4,
  "nbformat_minor": 5
}