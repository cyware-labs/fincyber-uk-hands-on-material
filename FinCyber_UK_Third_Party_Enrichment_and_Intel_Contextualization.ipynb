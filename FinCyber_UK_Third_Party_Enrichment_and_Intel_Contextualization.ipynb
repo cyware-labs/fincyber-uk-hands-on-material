{
  "cells": [
    {
      "cell_type": "markdown",
      "metadata": {
        "ExecuteTime": {
          "end_time": "2019-09-13T22:41:25.320840Z",
          "start_time": "2019-09-13T22:41:25.316988Z"
        },
        "id": "Lb7QW-51OhAE"
      },
      "source": [
        "# Open Soure Threat Intel Lookups & Enrichment"
      ]
    },
    {
      "metadata": {
        "id": "0d7ZIYJBOhAE"
      },
      "cell_type": "markdown",
      "source": [
        "## Description :\n",
        "This notebook is example implementaion of open source threat intel lookup using requests API."
      ]
    },
    {
      "cell_type": "markdown",
      "metadata": {
        "id": "dR2kJkv7OhAF"
      },
      "source": [
        "## Import Python Packages"
      ]
    },
    {
      "cell_type": "code",
      "metadata": {
        "ExecuteTime": {
          "end_time": "2024-08-28T05:28:20.118759Z",
          "start_time": "2024-08-28T05:28:19.426214Z"
        },
        "id": "nYha9qYiOhAF"
      },
      "source": [
        "# Imports\n",
        "from IPython import get_ipython\n",
        "from IPython.display import display, HTML\n",
        "\n",
        "import pandas as pd\n",
        "\n",
        "import requests, json\n",
        "from requests.exceptions import HTTPError\n",
        "from requests.auth import HTTPBasicAuth"
      ],
      "outputs": [],
      "execution_count": null
    },
    {
      "cell_type": "markdown",
      "metadata": {
        "id": "ipPzuKMSOhAF"
      },
      "source": [
        "# ThreatIntel Providers Research"
      ]
    },
    {
      "cell_type": "markdown",
      "metadata": {
        "id": "fQf12lriOhAG"
      },
      "source": [
        "## A few examples\n",
        "\n",
        " - Shodan :\n",
        "     - API Registeration : https://account.shodan.io/register\n",
        " - Alienvault OTX\n",
        "    - API Registeration : https://otx.alienvault.com/api\n",
        " - IBM Xforce\n",
        "    - API Registration : https://www.ibm.com/account/reg/signup?formid=urx-30243\n",
        " - ThreatMiner\n",
        "    - API Registration : https://threatminer.org/api.php\n",
        " - ThreatCrowd\n",
        "    - API Registration : https://github.com/AlienVault-OTX/ApiV2\n",
        " - RiskIQ\n",
        "    - API Registration : https://community.riskiq.com/registration\n",
        " - Pulsedive\n",
        "    - API Registration : https://pulsedive.com/auth/new.php\n",
        " - Censys\n",
        "    - API Registration : https://censys.io/register\n",
        " - SANS DShield\n",
        "    - API Registration : https://isc.sas.edu/api"
      ]
    },
    {
      "cell_type": "code",
      "metadata": {
        "ExecuteTime": {
          "end_time": "2024-08-28T06:16:20.754233Z",
          "start_time": "2024-08-28T06:16:20.739534Z"
        },
        "id": "PlJDmXOdOhAG"
      },
      "source": [
        "OTX_API='<otx-key>'"
      ],
      "outputs": [],
      "execution_count": null
    },
    {
      "cell_type": "markdown",
      "metadata": {
        "id": "fW-3C0zvOhAG"
      },
      "source": [
        "# Lookup Intel From Providers"
      ]
    },
    {
      "cell_type": "code",
      "metadata": {
        "code_folding": [],
        "ExecuteTime": {
          "end_time": "2024-08-28T05:30:10.497925Z",
          "start_time": "2024-08-28T05:30:10.478808Z"
        },
        "id": "evi7WaBAOhAG"
      },
      "source": [
        "def otx_iplookup(string,path=\"v1/indicators/IPv4/\",section=\"/general\"):\n",
        "    \"\"\" Perform whois Lookups on IP Address using Alienvault OTX API \"\"\"\n",
        "    API_BASE_URL=\"https://otx.alienvault.com/api/\"\n",
        "    try:\n",
        "        result =  requests.get(API_BASE_URL+path+string+section)\n",
        "        return result.json()\n",
        "    except HTTPError as http_err:\n",
        "        return http_err\n",
        "    except Exception as err:\n",
        "        return err\n",
        "\n",
        "def dshield_iplookup(string,outputformat=\"?json\"):\n",
        "    \"\"\" Perform whois Lookups on IP Address using SANS DShield API \"\"\"\n",
        "    API_BASE_URL=\"https://isc.sans.edu/api/ip/\"\n",
        "    try:\n",
        "        result =  requests.get(API_BASE_URL+string+outputformat)\n",
        "        return result.json()\n",
        "    except HTTPError as http_err:\n",
        "        return http_err\n",
        "    except Exception as err:\n",
        "        return err\n",
        "\n",
        "def threatminer_iplookup(string,rt=1):\n",
        "    \"\"\" Perform whois Lookups on IP Address using Threatminer API \"\"\"\n",
        "    API_BASE_URL=\"https://api.threatminer.org/v2/host.php\"\n",
        "    try:\n",
        "        result =  requests.get(API_BASE_URL,params = {\"q\": string,\"rt\":rt})\n",
        "        return result.json()\n",
        "    except HTTPError as http_err:\n",
        "        return http_err\n",
        "    except Exception as err:\n",
        "        return err\n",
        "\n",
        "def pulsedive_iplookup(string):\n",
        "    \"\"\" Perform whois Lookups on IP Address using Pulsedive API \"\"\"\n",
        "    API_BASE_URL=\"https://pulsedive.com/api/info.php\"\n",
        "    try:\n",
        "        result =  requests.get(API_BASE_URL,params = {\"indicator\": string,\"key\":\"\"})\n",
        "        return result.json()\n",
        "    except HTTPError as http_err:\n",
        "        return http_err\n",
        "    except Exception as err:\n",
        "        return err"
      ],
      "outputs": [],
      "execution_count": null
    },
    {
      "cell_type": "markdown",
      "metadata": {
        "id": "VJsp1G-7OhAH"
      },
      "source": [
        "## PulseDive"
      ]
    },
    {
      "cell_type": "code",
      "execution_count": null,
      "metadata": {
        "ExecuteTime": {
          "end_time": "2024-08-28T05:28:21.290696Z",
          "start_time": "2019-09-14T17:10:05.856800Z"
        },
        "id": "mqXg5kaiOhAH",
        "colab": {
          "base_uri": "https://localhost:8080/",
          "height": 465
        },
        "outputId": "29a3a6dc-c0b8-4d10-9486-7dcc97132d0c"
      },
      "outputs": [
        {
          "output_type": "stream",
          "name": "stdout",
          "text": [
            "Raw JSON - {'qid': None, 'iid': 2337312, 'indicator': '192.64.119.63', 'type': 'ip', 'risk': 'low', 'risk_recommended': 'low', 'manualrisk': 0, 'retired': 'No recent activity', 'stamp_added': '2018-08-06 03:48:26', 'stamp_updated': '2024-09-13 15:51:31', 'stamp_seen': '2024-06-10 20:28:14', 'stamp_probed': '2024-06-10 20:28:14', 'stamp_retired': '2024-09-13 15:51:31', 'recent': 0, 'submissions': 2, 'umbrella_rank': None, 'umbrella_domain': None, 'riskfactors': [{'rfid': 60, 'description': 'found in threat feeds', 'risk': 'medium'}, {'rfid': 50, 'description': 'hosted on common ISP', 'risk': 'none'}], 'redirects': {'from': [], 'to': []}, 'threats': [{'tid': 4, 'name': 'Banjori', 'category': 'malware', 'risk': 'unknown', 'stamp_linked': '2020-05-03 01:52:52'}, {'tid': 431, 'name': 'CryptoMining', 'category': 'general', 'risk': 'low', 'stamp_linked': '2020-02-21 02:54:12'}, {'tid': 67, 'name': 'Phishing', 'category': 'general', 'risk': 'high', 'stamp_linked': '2018-08-06 03:48:26'}, {'tid': 546, 'name': 'qsnatch', 'category': 'general', 'risk': 'unknown', 'stamp_linked': '2020-08-12 17:28:55'}, {'tid': 19, 'name': 'Suppobox', 'category': 'malware', 'risk': 'unknown', 'stamp_linked': '2018-12-05 22:11:22'}], 'feeds': [{'fid': 4, 'name': 'C&C IPs', 'category': 'malware', 'organization': 'Bambenek Consulting', 'pricing': None, 'stamp_linked': '2020-08-12 17:28:55'}, {'fid': 60, 'name': \"ZeroDot1's Bad IPs Feed\", 'category': 'abuse', 'organization': 'ZeroDot1', 'pricing': None, 'stamp_linked': '2020-06-17 08:36:29'}, {'fid': 65, 'name': \"Zerodot1's Mining IPs Feed\", 'category': 'abuse', 'organization': 'ZeroDot1', 'pricing': None, 'stamp_linked': '2020-02-21 02:54:12'}], 'comments': [], 'attributes': {'port': ['443', '80'], 'protocol': ['HTTP', 'HTTPS']}, 'properties': {'geo': {'countrycode': 'US', 'asn': 'AS22612', 'country': 'United States of America', 'lat': '37.751', 'long': '-97.822', 'org': 'NAMECHEAP-NET', 'isp': 'NAMECHEAP-NET'}, 'http': {'client-response-num': '1', 'connection': 'close', 'server': 'nginx', 'x-served-by': 'Namecheap URL Forward'}, 'whois': {'network': ['Country-Code:US', 'Class-Name:network', 'State:GA', 'Street-Address:', 'Org-Name:Web-hosting.com', 'Updated-By:net-admin@namecheap.com', 'City:Atlanta', 'Postal-Code:30303/3030', 'Auth-Area:192.64.119.0/24', 'Network-Name:anycast-edge-fwd-range', 'ID:NET-79088.192.64.119.0/24', 'IP-Network:192.64.119.0/24', 'IP-Network-Block:192.64.119.0 - 192.64.119.255', 'Tech-Contact:MAINT-79088.192.64.119.0/24', 'Created:20190523134201000', 'Updated:20190523163005000'], 'contact': ['Tech-Phone:', 'POC-Name:Network team', 'POC-Email:net-admin@namecheap.com', 'POC-Phone:', 'Tech-Name:Network team', 'Tech-Email:net-admin@namecheap.com', 'Abuse-Name:Abuse team', 'Abuse-Email:abuse@namecheaphosting.com']}, 'dns': {'ptr': ''}}}\n",
            "\n",
            "\n"
          ]
        },
        {
          "output_type": "display_data",
          "data": {
            "text/plain": [
              "<IPython.core.display.HTML object>"
            ],
            "text/html": [
              "<div class=\"alert alert-danger\"> Match Found via Pulsedive API </div>"
            ]
          },
          "metadata": {}
        },
        {
          "output_type": "stream",
          "name": "stdout",
          "text": [
            "5 Threats Idenfied\n",
            "\n",
            " PulseDive Tags or Categories Identified:\n",
            "malware\n",
            "general\n",
            "general\n",
            "general\n",
            "malware\n",
            "\n",
            " PulseDive Reported Related Threats Description:\n",
            "Banjori\n",
            "CryptoMining\n",
            "Phishing\n",
            "qsnatch\n",
            "Suppobox\n",
            "\n",
            " PulseDive Feed Names:\n",
            "C&C IPs\n",
            "ZeroDot1's Bad IPs Feed\n",
            "Zerodot1's Mining IPs Feed\n"
          ]
        }
      ],
      "source": [
        "pulsediveresults = pulsedive_iplookup(\"192.64.119.63\")\n",
        "# Code To extract essential details from raw json response\n",
        "if len(pulsediveresults['threats']) > 0 :\n",
        "    print(f\"Raw JSON - {pulsediveresults}\\n\\n\")\n",
        "    display(HTML('<div class=\"alert alert-danger\"> Match Found via Pulsedive API </div>'))\n",
        "    print(f\"{len(pulsediveresults['threats'])} Threats Idenfied\")\n",
        "    print(f\"\\n PulseDive Tags or Categories Identified:\")\n",
        "    for item in pulsediveresults['threats']:print(item['category'])\n",
        "    print(f\"\\n PulseDive Reported Related Threats Description:\")\n",
        "    for item in pulsediveresults['threats']:print(item['name'])\n",
        "    print(f\"\\n PulseDive Feed Names:\")\n",
        "    for item in pulsediveresults['feeds']:print(item['name'])\n",
        "else:\n",
        "    display(HTML('<div class=\"alert alert-success\">No Match Found via Pulsedive API </div>'))"
      ]
    },
    {
      "cell_type": "markdown",
      "metadata": {
        "id": "MvZH3BzpOhAH"
      },
      "source": [
        "## ThreatMiner"
      ]
    },
    {
      "cell_type": "code",
      "execution_count": null,
      "metadata": {
        "ExecuteTime": {
          "end_time": "2024-08-28T05:28:21.291486Z",
          "start_time": "2019-09-14T17:10:11.809804Z"
        },
        "id": "rQ1gx0HMOhAH",
        "colab": {
          "base_uri": "https://localhost:8080/",
          "height": 394
        },
        "outputId": "88104d34-093d-4553-f29b-1f2f1ae95b15"
      },
      "outputs": [
        {
          "output_type": "stream",
          "name": "stdout",
          "text": [
            "Raw JSON - {'status_code': '200', 'status_message': 'Results found.', 'results': [{'filename': 'Area-1-Security-OperationDoos-IRN2TargetsSaudiArabianOilandGasIndustryWithCareer-ThemedPhishingAttack.pdf', 'year': '2018', 'URL': 'https://www.threatminer.org/report.php?q=Area-1-Security-OperationDoos-IRN2TargetsSaudiArabianOilandGasIndustryWithCareer-ThemedPhishingAttack.pdf&y=2018'}, {'filename': 'TheOilRigCampaign_AttacksonSaudiArabianOrganizationsDeliverHelminthBackdoor-PaloAltoNetworksBlogPaloAltoNetworksBlog.pdf', 'year': '2016', 'URL': 'https://www.threatminer.org/report.php?q=TheOilRigCampaign_AttacksonSaudiArabianOrganizationsDeliverHelminthBackdoor-PaloAltoNetworksBlogPaloAltoNetworksBlog.pdf&y=2016'}, {'filename': 'Area-1-Security-OperationDoos-IRN2TargetsSaudiArabianOilandGasIndustryWithCareer-ThemedPhishingAttack.pdf', 'year': '2018', 'URL': 'https://www.threatminer.org/report.php?q=Area-1-Security-OperationDoos-IRN2TargetsSaudiArabianOilandGasIndustryWithCareer-ThemedPhishingAttack.pdf&y=2018'}, {'filename': 'DNSTunnelingintheWild_OverviewofOilRig’sDNSTunneling.pdf', 'year': '2019', 'URL': 'https://www.threatminer.org/report.php?q=DNSTunnelingintheWild_OverviewofOilRig’sDNSTunneling.pdf&y=2019'}, {'filename': 'TheOilRigCampaign_AttacksonSaudiArabianOrganizationsDeliverHelminthBackdoor-PaloAltoNetworksBlogPaloAltoNetworksBlog.pdf', 'year': '2016', 'URL': 'https://www.threatminer.org/report.php?q=TheOilRigCampaign_AttacksonSaudiArabianOrganizationsDeliverHelminthBackdoor-PaloAltoNetworksBlogPaloAltoNetworksBlog.pdf&y=2016'}, {'filename': 'DNSTunnelingintheWild_OverviewofOilRig’sDNSTunneling.pdf', 'year': '2019', 'URL': 'https://www.threatminer.org/report.php?q=DNSTunnelingintheWild_OverviewofOilRig’sDNSTunneling.pdf&y=2019'}]}\n",
            "\n",
            "\n"
          ]
        },
        {
          "output_type": "display_data",
          "data": {
            "text/plain": [
              "<IPython.core.display.HTML object>"
            ],
            "text/html": [
              "<div class=\"alert alert-danger\">Match Found via ThreatMiner API </div>"
            ]
          },
          "metadata": {}
        },
        {
          "output_type": "stream",
          "name": "stdout",
          "text": [
            "6 References Idenfied\n",
            "\n",
            " ThreatMiner File along with URL References:\n",
            "\n",
            "FileName Reference:\tArea-1-Security-OperationDoos-IRN2TargetsSaudiArabianOilandGasIndustryWithCareer-ThemedPhishingAttack.pdf\n",
            "URL Reference :\thttps://www.threatminer.org/report.php?q=Area-1-Security-OperationDoos-IRN2TargetsSaudiArabianOilandGasIndustryWithCareer-ThemedPhishingAttack.pdf&y=2018\n",
            "FileName Reference:\tTheOilRigCampaign_AttacksonSaudiArabianOrganizationsDeliverHelminthBackdoor-PaloAltoNetworksBlogPaloAltoNetworksBlog.pdf\n",
            "URL Reference :\thttps://www.threatminer.org/report.php?q=TheOilRigCampaign_AttacksonSaudiArabianOrganizationsDeliverHelminthBackdoor-PaloAltoNetworksBlogPaloAltoNetworksBlog.pdf&y=2016\n",
            "FileName Reference:\tArea-1-Security-OperationDoos-IRN2TargetsSaudiArabianOilandGasIndustryWithCareer-ThemedPhishingAttack.pdf\n",
            "URL Reference :\thttps://www.threatminer.org/report.php?q=Area-1-Security-OperationDoos-IRN2TargetsSaudiArabianOilandGasIndustryWithCareer-ThemedPhishingAttack.pdf&y=2018\n",
            "FileName Reference:\tDNSTunnelingintheWild_OverviewofOilRig’sDNSTunneling.pdf\n",
            "URL Reference :\thttps://www.threatminer.org/report.php?q=DNSTunnelingintheWild_OverviewofOilRig’sDNSTunneling.pdf&y=2019\n",
            "FileName Reference:\tTheOilRigCampaign_AttacksonSaudiArabianOrganizationsDeliverHelminthBackdoor-PaloAltoNetworksBlogPaloAltoNetworksBlog.pdf\n",
            "URL Reference :\thttps://www.threatminer.org/report.php?q=TheOilRigCampaign_AttacksonSaudiArabianOrganizationsDeliverHelminthBackdoor-PaloAltoNetworksBlogPaloAltoNetworksBlog.pdf&y=2016\n",
            "FileName Reference:\tDNSTunnelingintheWild_OverviewofOilRig’sDNSTunneling.pdf\n",
            "URL Reference :\thttps://www.threatminer.org/report.php?q=DNSTunnelingintheWild_OverviewofOilRig’sDNSTunneling.pdf&y=2019\n"
          ]
        }
      ],
      "source": [
        "threatminerresults=threatminer_iplookup(\"35.35.35.35\",rt=6)\n",
        "\n",
        "#Code To extract essential details from raw json response\n",
        "if threatminerresults['status_message'] == 'Results found.':\n",
        "    print(f\"Raw JSON - {threatminerresults}\\n\\n\")\n",
        "    display(HTML('<div class=\"alert alert-danger\">Match Found via ThreatMiner API </div>'))\n",
        "    print(f\"{len(threatminerresults['results'])} References Idenfied\")\n",
        "    print(f\"\\n ThreatMiner File along with URL References:\\n\")\n",
        "    for item in threatminerresults['results']:print(\"FileName Reference:\\t\"+item['filename']+ \"\\nURL Reference :\\t\"+item['URL'])\n",
        "else:\n",
        "     display(HTML('<div class=\"alert alert-success\">No Match Found via ThreatMiner API </div>'))"
      ]
    },
    {
      "cell_type": "markdown",
      "metadata": {
        "id": "s6jm3GJgOhAH"
      },
      "source": [
        "## Dshield"
      ]
    },
    {
      "cell_type": "code",
      "execution_count": null,
      "metadata": {
        "ExecuteTime": {
          "end_time": "2024-08-28T05:28:21.291895Z",
          "start_time": "2019-09-14T17:10:13.605979Z"
        },
        "id": "6TnANlB-OhAH",
        "colab": {
          "base_uri": "https://localhost:8080/",
          "height": 179
        },
        "outputId": "0f391504-b7bf-4b4f-b683-93a712829b1b"
      },
      "outputs": [
        {
          "output_type": "stream",
          "name": "stdout",
          "text": [
            "Raw JSON - {'ip': {'number': '128.210.157.251', 'count': None, 'attacks': None, 'maxdate': None, 'mindate': None, 'updated': None, 'comment': None, 'maxrisk': None, 'asabusecontact': 'abuse@purdue.edu', 'as': 17, 'asname': 'PURDUE', 'ascountry': 'US', 'assize': 418304, 'network': '128.210.0.0/16', 'threatfeeds': {'zeuscc': {'lastseen': '2019-07-08', 'firstseen': '2013-09-29'}}}}\n",
            "\n",
            "\n"
          ]
        },
        {
          "output_type": "display_data",
          "data": {
            "text/plain": [
              "<IPython.core.display.HTML object>"
            ],
            "text/html": [
              "<div class=\"alert alert-danger\">Match Found via DShield API </div>"
            ]
          },
          "metadata": {}
        },
        {
          "output_type": "stream",
          "name": "stdout",
          "text": [
            "1 ThreatFeeds Idenfied\n",
            "\n",
            " Dshield ThreatFeeds Results:\n",
            " {'zeuscc': {'lastseen': '2019-07-08', 'firstseen': '2013-09-29'}}\n"
          ]
        }
      ],
      "source": [
        "dshieldresults=dshield_iplookup(\"128.210.157.251\")\n",
        "\n",
        "#Code To extract essential details from raw json response\n",
        "if 'threatfeeds' in dshieldresults['ip'].keys():\n",
        "    print(f\"Raw JSON - {dshieldresults}\\n\\n\")\n",
        "\n",
        "    display(HTML('<div class=\"alert alert-danger\">Match Found via DShield API </div>'))\n",
        "    print(f\"{len(dshieldresults['ip']['threatfeeds'])} ThreatFeeds Idenfied\")\n",
        "    print(f\"\\n Dshield ThreatFeeds Results:\\n {dshieldresults['ip']['threatfeeds']}\")\n",
        "else:\n",
        "    display(HTML('<div class=\"alert alert-success\">No Match Found via DShiled API </div>'))"
      ]
    },
    {
      "cell_type": "markdown",
      "metadata": {
        "id": "7Nu5zm3YOhAI"
      },
      "source": [
        "## Alienvault"
      ]
    },
    {
      "cell_type": "code",
      "metadata": {
        "ExecuteTime": {
          "end_time": "2024-08-28T06:16:30.169346Z",
          "start_time": "2024-08-28T06:16:29.425423Z"
        },
        "id": "2Ndy_E7ROhAI",
        "colab": {
          "base_uri": "https://localhost:8080/",
          "height": 340
        },
        "outputId": "db464332-0d05-4f78-d34c-d17560ff78bc"
      },
      "source": [
        "otxresults=otx_iplookup('109.248.222.47')\n",
        "\n",
        "#Code To extract essential details from raw json response\n",
        "if 'pulse_info' in otxresults.keys():\n",
        "    print(f\"Raw JSON - {otxresults}\\n\\n\")\n",
        "    display(HTML('<div class=\"alert alert-danger\">Match Found via Alienvault API</div>'))\n",
        "#     print(\"Match Found via Alienvault API\")\n",
        "    print(f\"{len(otxresults['pulse_info']['pulses'])} Pulses Idenfied\")\n",
        "    print(f\"\\nAlienvault Tags identified:\")\n",
        "    for item in otxresults['pulse_info']['pulses']: print(f\"Tags idenfied {item['tags']} from {item['name']}\")\n",
        "    print(f\"\\nReferences identified:\")\n",
        "    for item in otxresults['pulse_info']['pulses']: print(item['references'])\n",
        "else:\n",
        "    display(HTML('<div class=\"alert alert-success\">No Match Found via Alienvault API </div>'))"
      ],
      "outputs": [
        {
          "output_type": "stream",
          "name": "stdout",
          "text": [
            "Raw JSON - {'whois': 'http://whois.domaintools.com/109.248.222.47', 'reputation': 0, 'indicator': '109.248.222.47', 'type': 'IPv4', 'type_title': 'IPv4', 'base_indicator': {'id': 1458176, 'indicator': '109.248.222.47', 'type': 'IPv4', 'title': '', 'description': '', 'content': '', 'access_type': 'public', 'access_reason': ''}, 'pulse_info': {'count': 4, 'pulses': [{'id': '5c76b2acd1420a1aac451307', 'name': 'Malware Command and Control IPs', 'description': '', 'modified': '2024-02-17T07:03:55.237000', 'created': '2019-02-27T15:54:20.106000', 'tags': [], 'references': [], 'public': 1, 'adversary': '', 'targeted_countries': [], 'malware_families': [], 'attack_ids': [], 'industries': [], 'TLP': 'white', 'cloned_from': None, 'export_count': 35395, 'upvotes_count': 0, 'downvotes_count': 0, 'votes_count': 0, 'locked': False, 'pulse_source': 'web', 'validator_count': 0, 'comment_count': 8, 'follower_count': 0, 'vote': 0, 'author': {'username': 'otxrobot_ip', 'id': '79494', 'avatar_url': '/otxapi/users/avatar_image/media/avatars/user_79494/resized/80/avatar_ae25690a70.png', 'is_subscribed': False, 'is_following': False}, 'indicator_type_counts': {}, 'indicator_count': 0, 'is_author': False, 'is_subscribing': None, 'subscriber_count': 1655, 'modified_text': '219 days ago ', 'is_modified': True, 'groups': [], 'in_group': False, 'threat_hunter_scannable': False, 'threat_hunter_has_agents': 1, 'related_indicator_type': 'IPv4', 'related_indicator_is_active': 0}, {'id': '65b47683be5ae22916440188', 'name': 'Malware Command and Control IPs  [Copied from otxrobot_ip]', 'description': '', 'modified': '2024-02-17T07:03:55.237000', 'created': '2024-01-27T03:20:35.408000', 'tags': [], 'references': [], 'public': 1, 'adversary': '', 'targeted_countries': [], 'malware_families': [], 'attack_ids': [], 'industries': [], 'TLP': 'white', 'cloned_from': '5c76b2acd1420a1aac451307', 'export_count': 15, 'upvotes_count': 0, 'downvotes_count': 0, 'votes_count': 0, 'locked': False, 'pulse_source': 'web', 'validator_count': 0, 'comment_count': 0, 'follower_count': 0, 'vote': 0, 'author': {'username': 'OctoSeek', 'id': '243548', 'avatar_url': '/otxapi/users/avatar_image/media/avatars/user_243548/resized/80/avatar_3b9c358f36.png', 'is_subscribed': False, 'is_following': False}, 'indicator_type_counts': {}, 'indicator_count': 0, 'is_author': False, 'is_subscribing': None, 'subscriber_count': 161, 'modified_text': '219 days ago ', 'is_modified': True, 'groups': [], 'in_group': False, 'threat_hunter_scannable': False, 'threat_hunter_has_agents': 1, 'related_indicator_type': 'IPv4', 'related_indicator_is_active': 0}, {'id': '6418adebc25460204bec6f29', 'name': 'Threat Round up for March 10 to March 17', 'description': 'https://blog.talosintelligence.com/threat-roundup-0310-0317/', 'modified': '2023-04-19T18:00:53.213000', 'created': '2023-03-20T19:03:03.552000', 'tags': ['threat roundup', 'compromiseiocs', 'hashessee json', 'march', 'iocs', 'talos', 'ioc searching', 'center', 'json file', 'mitre att', 'microsoft word', 'tofsee', 'ursu', 'bladabindi'], 'references': ['https://blog.talosintelligence.com/threat-roundup-0310-0317/'], 'public': 1, 'adversary': '', 'targeted_countries': [], 'malware_families': [], 'attack_ids': [], 'industries': [], 'TLP': 'white', 'cloned_from': None, 'export_count': 7, 'upvotes_count': 0, 'downvotes_count': 0, 'votes_count': 0, 'locked': False, 'pulse_source': 'web', 'validator_count': 0, 'comment_count': 0, 'follower_count': 0, 'vote': 0, 'author': {'username': 'Cyber74Team', 'id': '202637', 'avatar_url': '/otxapi/users/avatar_image/media/avatars/user_202637/resized/80/avatar_3b9c358f36.png', 'is_subscribed': False, 'is_following': False}, 'indicator_type_counts': {'domain': 32, 'FileHash-MD5': 55, 'FileHash-SHA1': 53, 'FileHash-SHA256': 199, 'CIDR': 4, 'hostname': 6}, 'indicator_count': 349, 'is_author': False, 'is_subscribing': None, 'subscriber_count': 139, 'modified_text': '522 days ago ', 'is_modified': True, 'groups': [], 'in_group': False, 'threat_hunter_scannable': True, 'threat_hunter_has_agents': 1, 'related_indicator_type': 'IPv4', 'related_indicator_is_active': 0}, {'id': '641503694336eed103fd6d96', 'name': 'InQuest - 17-03-2023', 'description': '', 'modified': '2023-04-17T00:02:29.642000', 'created': '2023-03-18T00:18:49.706000', 'tags': [], 'references': ['https://labs.inquest.net/iocdb'], 'public': 1, 'adversary': '', 'targeted_countries': [], 'malware_families': [], 'attack_ids': [], 'industries': [], 'TLP': 'green', 'cloned_from': None, 'export_count': 7, 'upvotes_count': 0, 'downvotes_count': 0, 'votes_count': 0, 'locked': False, 'pulse_source': 'api', 'validator_count': 0, 'comment_count': 0, 'follower_count': 0, 'vote': 0, 'author': {'username': 'CyberHunterAutoFeed', 'id': '182496', 'avatar_url': '/otxapi/users/avatar_image/media/avatars/user_182496/resized/80/avatar_3b9c358f36.png', 'is_subscribed': False, 'is_following': False}, 'indicator_type_counts': {'FileHash-SHA256': 316, 'URL': 1476, 'domain': 982, 'hostname': 166, 'FileHash-MD5': 31, 'FileHash-SHA1': 9}, 'indicator_count': 2980, 'is_author': False, 'is_subscribing': None, 'subscriber_count': 917, 'modified_text': '525 days ago ', 'is_modified': True, 'groups': [], 'in_group': False, 'threat_hunter_scannable': True, 'threat_hunter_has_agents': 1, 'related_indicator_type': 'IPv4', 'related_indicator_is_active': 0}], 'references': ['https://labs.inquest.net/iocdb', 'https://blog.talosintelligence.com/threat-roundup-0310-0317/'], 'related': {'alienvault': {'adversary': [], 'malware_families': [], 'industries': []}, 'other': {'adversary': [], 'malware_families': [], 'industries': []}}}, 'false_positive': [], 'validation': [], 'asn': 'AS57494 adman llc', 'city_data': True, 'city': 'Novosibirsk', 'region': 'NVS', 'continent_code': 'EU', 'country_code3': 'RUS', 'country_code2': 'RU', 'subdivision': 'NVS', 'latitude': 54.9022, 'postal_code': '630060', 'longitude': 83.0335, 'accuracy_radius': 100, 'country_code': 'RU', 'country_name': 'Russian Federation', 'dma_code': 0, 'charset': 0, 'area_code': 0, 'flag_url': '/assets/images/flags/ru.png', 'flag_title': 'Russian Federation', 'sections': ['general', 'geo', 'reputation', 'url_list', 'passive_dns', 'malware', 'nids_list', 'http_scans']}\n",
            "\n",
            "\n"
          ]
        },
        {
          "output_type": "display_data",
          "data": {
            "text/plain": [
              "<IPython.core.display.HTML object>"
            ],
            "text/html": [
              "<div class=\"alert alert-danger\">Match Found via Alienvault API</div>"
            ]
          },
          "metadata": {}
        },
        {
          "output_type": "stream",
          "name": "stdout",
          "text": [
            "4 Pulses Idenfied\n",
            "\n",
            "Alienvault Tags identified:\n",
            "Tags idenfied [] from Malware Command and Control IPs\n",
            "Tags idenfied [] from Malware Command and Control IPs  [Copied from otxrobot_ip]\n",
            "Tags idenfied ['threat roundup', 'compromiseiocs', 'hashessee json', 'march', 'iocs', 'talos', 'ioc searching', 'center', 'json file', 'mitre att', 'microsoft word', 'tofsee', 'ursu', 'bladabindi'] from Threat Round up for March 10 to March 17\n",
            "Tags idenfied [] from InQuest - 17-03-2023\n",
            "\n",
            "References identified:\n",
            "[]\n",
            "[]\n",
            "['https://blog.talosintelligence.com/threat-roundup-0310-0317/']\n",
            "['https://labs.inquest.net/iocdb']\n"
          ]
        }
      ],
      "execution_count": null
    }
  ],
  "metadata": {
    "kernelspec": {
      "display_name": "Python 3",
      "language": "python",
      "name": "python3"
    },
    "language_info": {
      "codemirror_mode": {
        "name": "ipython",
        "version": 3
      },
      "file_extension": ".py",
      "mimetype": "text/x-python",
      "name": "python",
      "nbconvert_exporter": "python",
      "pygments_lexer": "ipython3",
      "version": "3.7.3"
    },
    "toc": {
      "base_numbering": 1,
      "nav_menu": {},
      "number_sections": false,
      "sideBar": true,
      "skip_h1_title": false,
      "title_cell": "Table of Contents",
      "title_sidebar": "Contents",
      "toc_cell": true,
      "toc_position": {},
      "toc_section_display": true,
      "toc_window_display": true
    },
    "varInspector": {
      "cols": {
        "lenName": 16,
        "lenType": 16,
        "lenVar": 40
      },
      "kernels_config": {
        "python": {
          "delete_cmd_postfix": "",
          "delete_cmd_prefix": "del ",
          "library": "var_list.py",
          "varRefreshCmd": "print(var_dic_list())"
        },
        "r": {
          "delete_cmd_postfix": ") ",
          "delete_cmd_prefix": "rm(",
          "library": "var_list.r",
          "varRefreshCmd": "cat(var_dic_list()) "
        }
      },
      "types_to_exclude": [
        "module",
        "function",
        "builtin_function_or_method",
        "instance",
        "_Feature"
      ],
      "window_display": false
    },
    "colab": {
      "provenance": [],
      "collapsed_sections": [
        "Lb7QW-51OhAE"
      ]
    }
  },
  "nbformat": 4,
  "nbformat_minor": 0
}